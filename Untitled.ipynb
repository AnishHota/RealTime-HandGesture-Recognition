{
 "cells": [
  {
   "cell_type": "code",
   "execution_count": 1,
   "metadata": {},
   "outputs": [
    {
     "name": "stderr",
     "output_type": "stream",
     "text": [
      "Using TensorFlow backend.\n"
     ]
    }
   ],
   "source": [
    "from keras.preprocessing.image import ImageDataGenerator\n",
    "from keras.layers import Conv2D, MaxPooling2D, Dropout,Dense, Flatten\n",
    "from keras.callbacks import EarlyStopping, ModelCheckpoint\n",
    "from keras.models import Sequential, load_model\n",
    "import tensorflow as tf\n",
    "import numpy as np\n",
    "import os"
   ]
  },
  {
   "cell_type": "code",
   "execution_count": 2,
   "metadata": {
    "collapsed": true
   },
   "outputs": [],
   "source": [
    "nbatch = 128\n",
    "\n",
    "train_datagen = ImageDataGenerator( rescale = 1./255, \n",
    "                                  rotation_range = 10,\n",
    "                                  width_shift_range=0.1,\n",
    "                                  height_shift_range=0.1,\n",
    "                                  zoom_range=0.2,\n",
    "                                  horizontal_flip=True)\n",
    "\n",
    "test_datagen = ImageDataGenerator(rescale = 1./255)"
   ]
  },
  {
   "cell_type": "code",
   "execution_count": 3,
   "metadata": {},
   "outputs": [
    {
     "name": "stdout",
     "output_type": "stream",
     "text": [
      "Found 10111 images belonging to 7 classes.\n"
     ]
    }
   ],
   "source": [
    "train_gen = train_datagen.flow_from_directory('data/',\n",
    "                                             target_size=(300,300),\n",
    "                                             color_mode = 'grayscale',\n",
    "                                             batch_size = nbatch,\n",
    "                                             classes=['ADD','ZERO','ONE','TWO','THREE','FOUR','FIVE'],\n",
    "                                             class_mode='categorical')"
   ]
  },
  {
   "cell_type": "code",
   "execution_count": 9,
   "metadata": {},
   "outputs": [
    {
     "name": "stdout",
     "output_type": "stream",
     "text": [
      "Found 4590 images belonging to 7 classes.\n"
     ]
    }
   ],
   "source": [
    "test_gen = test_datagen.flow_from_directory('images/test',\n",
    "                                           target_size=(300,300),\n",
    "                                           color_mode='grayscale',\n",
    "                                           batch_size=nbatch,\n",
    "                                           classes=['ADD','ZERO','ONE','TWO','THREE','FOUR','FIVE'],\n",
    "                                           class_mode='categorical')"
   ]
  },
  {
   "cell_type": "code",
   "execution_count": 4,
   "metadata": {},
   "outputs": [
    {
     "name": "stdout",
     "output_type": "stream",
     "text": [
      "WARNING:tensorflow:From /usr/local/lib/python3.5/dist-packages/tensorflow/python/framework/op_def_library.py:263: colocate_with (from tensorflow.python.framework.ops) is deprecated and will be removed in a future version.\n",
      "Instructions for updating:\n",
      "Colocations handled automatically by placer.\n",
      "WARNING:tensorflow:From /usr/local/lib/python3.5/dist-packages/keras/backend/tensorflow_backend.py:3445: calling dropout (from tensorflow.python.ops.nn_ops) with keep_prob is deprecated and will be removed in a future version.\n",
      "Instructions for updating:\n",
      "Please use `rate` instead of `keep_prob`. Rate should be set to `rate = 1 - keep_prob`.\n",
      "_________________________________________________________________\n",
      "Layer (type)                 Output Shape              Param #   \n",
      "=================================================================\n",
      "conv2d_1 (Conv2D)            (None, 298, 298, 32)      320       \n",
      "_________________________________________________________________\n",
      "max_pooling2d_1 (MaxPooling2 (None, 149, 149, 32)      0         \n",
      "_________________________________________________________________\n",
      "conv2d_2 (Conv2D)            (None, 147, 147, 64)      18496     \n",
      "_________________________________________________________________\n",
      "max_pooling2d_2 (MaxPooling2 (None, 73, 73, 64)        0         \n",
      "_________________________________________________________________\n",
      "conv2d_3 (Conv2D)            (None, 71, 71, 128)       73856     \n",
      "_________________________________________________________________\n",
      "max_pooling2d_3 (MaxPooling2 (None, 35, 35, 128)       0         \n",
      "_________________________________________________________________\n",
      "conv2d_4 (Conv2D)            (None, 33, 33, 128)       147584    \n",
      "_________________________________________________________________\n",
      "max_pooling2d_4 (MaxPooling2 (None, 16, 16, 128)       0         \n",
      "_________________________________________________________________\n",
      "flatten_1 (Flatten)          (None, 32768)             0         \n",
      "_________________________________________________________________\n",
      "dense_1 (Dense)              (None, 512)               16777728  \n",
      "_________________________________________________________________\n",
      "dropout_1 (Dropout)          (None, 512)               0         \n",
      "_________________________________________________________________\n",
      "dense_2 (Dense)              (None, 7)                 3591      \n",
      "=================================================================\n",
      "Total params: 17,021,575\n",
      "Trainable params: 17,021,575\n",
      "Non-trainable params: 0\n",
      "_________________________________________________________________\n"
     ]
    }
   ],
   "source": [
    "model = Sequential()\n",
    "model.add(Conv2D(32, (3,3), activation='relu', input_shape=(300,300,1)))\n",
    "model.add(MaxPooling2D((2,2)))\n",
    "model.add(Conv2D(64, (3,3), activation='relu'))\n",
    "model.add(MaxPooling2D((2,2)))\n",
    "model.add(Conv2D(128, (3,3), activation='relu'))\n",
    "model.add(MaxPooling2D((2,2)))\n",
    "model.add(Conv2D(128, (3,3), activation='relu'))\n",
    "model.add(MaxPooling2D((2,2)))\n",
    "model.add(Flatten())\n",
    "model.add(Dense(512, activation='relu'))\n",
    "model.add(Dropout(0.3))\n",
    "model.add(Dense(7, activation='softmax'))\n",
    "\n",
    "model.summary()"
   ]
  },
  {
   "cell_type": "code",
   "execution_count": 5,
   "metadata": {
    "collapsed": true
   },
   "outputs": [],
   "source": [
    "model.compile(optimizer='adadelta',loss='categorical_crossentropy',metrics=['acc'])"
   ]
  },
  {
   "cell_type": "code",
   "execution_count": 6,
   "metadata": {
    "collapsed": true
   },
   "outputs": [],
   "source": [
    "callbacks_list = [EarlyStopping(monitor='val_loss',patience=10),\n",
    "                 ModelCheckpoint(filepath='digit_model',monitor='val_loss',save_best_only=True),\n",
    "                 ]"
   ]
  },
  {
   "cell_type": "code",
   "execution_count": 7,
   "metadata": {
    "collapsed": true
   },
   "outputs": [],
   "source": [
    "os.environ[\"CUDA_VISIBLE_DEVICES\"]=\"2\""
   ]
  },
  {
   "cell_type": "code",
   "execution_count": 10,
   "metadata": {},
   "outputs": [
    {
     "name": "stdout",
     "output_type": "stream",
     "text": [
      "WARNING:tensorflow:From /usr/local/lib/python3.5/dist-packages/tensorflow/python/ops/math_ops.py:3066: to_int32 (from tensorflow.python.ops.math_ops) is deprecated and will be removed in a future version.\n",
      "Instructions for updating:\n",
      "Use tf.cast instead.\n",
      "Epoch 1/30\n",
      "40/40 [==============================] - 1027s 26s/step - loss: 1.9235 - acc: 0.1832 - val_loss: 1.7483 - val_acc: 0.2065\n",
      "Epoch 2/30\n",
      "40/40 [==============================] - 1019s 25s/step - loss: 1.5703 - acc: 0.3886 - val_loss: 0.8954 - val_acc: 0.7658\n",
      "Epoch 3/30\n",
      "40/40 [==============================] - 980s 25s/step - loss: 1.0580 - acc: 0.6020 - val_loss: 0.5315 - val_acc: 0.7600\n",
      "Epoch 4/30\n",
      "40/40 [==============================] - 963s 24s/step - loss: 0.6711 - acc: 0.7355 - val_loss: 0.3086 - val_acc: 0.8744\n",
      "Epoch 5/30\n",
      "40/40 [==============================] - 976s 24s/step - loss: 0.4744 - acc: 0.8189 - val_loss: 0.0813 - val_acc: 0.9794\n",
      "Epoch 6/30\n",
      "40/40 [==============================] - 994s 25s/step - loss: 0.3444 - acc: 0.8752 - val_loss: 0.0672 - val_acc: 0.9840\n",
      "Epoch 7/30\n",
      "40/40 [==============================] - 991s 25s/step - loss: 0.2584 - acc: 0.9062 - val_loss: 0.0593 - val_acc: 0.9815\n",
      "Epoch 8/30\n",
      "40/40 [==============================] - 991s 25s/step - loss: 0.2173 - acc: 0.9178 - val_loss: 0.0249 - val_acc: 0.9893\n",
      "Epoch 9/30\n",
      "40/40 [==============================] - 981s 25s/step - loss: 0.1606 - acc: 0.9439 - val_loss: 0.0291 - val_acc: 0.9891\n",
      "Epoch 10/30\n",
      "40/40 [==============================] - 981s 25s/step - loss: 0.1362 - acc: 0.9523 - val_loss: 0.0108 - val_acc: 0.9975\n",
      "Epoch 11/30\n",
      "40/40 [==============================] - 978s 24s/step - loss: 0.1204 - acc: 0.9574 - val_loss: 0.0257 - val_acc: 0.9907\n",
      "Epoch 12/30\n",
      "40/40 [==============================] - 982s 25s/step - loss: 0.1075 - acc: 0.9664 - val_loss: 0.0047 - val_acc: 0.9992\n",
      "Epoch 13/30\n",
      "40/40 [==============================] - 985s 25s/step - loss: 0.1255 - acc: 0.9602 - val_loss: 0.0055 - val_acc: 0.9989\n",
      "Epoch 14/30\n",
      "40/40 [==============================] - 987s 25s/step - loss: 0.0961 - acc: 0.9666 - val_loss: 0.0109 - val_acc: 0.9972\n",
      "Epoch 15/30\n",
      "40/40 [==============================] - 988s 25s/step - loss: 0.0679 - acc: 0.9775 - val_loss: 0.0097 - val_acc: 0.9975\n",
      "Epoch 16/30\n",
      "40/40 [==============================] - 978s 24s/step - loss: 0.1090 - acc: 0.9627 - val_loss: 0.0110 - val_acc: 0.9958\n",
      "Epoch 17/30\n",
      "40/40 [==============================] - 974s 24s/step - loss: 0.0535 - acc: 0.9826 - val_loss: 0.0248 - val_acc: 0.9916\n",
      "Epoch 18/30\n",
      "40/40 [==============================] - 975s 24s/step - loss: 0.0734 - acc: 0.9773 - val_loss: 0.0051 - val_acc: 0.9989\n",
      "Epoch 19/30\n",
      "40/40 [==============================] - 979s 24s/step - loss: 0.0523 - acc: 0.9822 - val_loss: 0.0064 - val_acc: 0.9978\n",
      "Epoch 20/30\n",
      "40/40 [==============================] - 980s 25s/step - loss: 0.0558 - acc: 0.9828 - val_loss: 0.0038 - val_acc: 0.9989\n",
      "Epoch 21/30\n",
      "40/40 [==============================] - 983s 25s/step - loss: 0.0501 - acc: 0.9834 - val_loss: 0.0045 - val_acc: 0.9986\n",
      "Epoch 22/30\n",
      "40/40 [==============================] - 980s 24s/step - loss: 0.0507 - acc: 0.9828 - val_loss: 0.0205 - val_acc: 0.9913\n",
      "Epoch 23/30\n",
      "40/40 [==============================] - 988s 25s/step - loss: 0.0518 - acc: 0.9834 - val_loss: 0.0141 - val_acc: 0.9953\n",
      "Epoch 24/30\n",
      "40/40 [==============================] - 990s 25s/step - loss: 0.0412 - acc: 0.9863 - val_loss: 0.0142 - val_acc: 0.9936\n",
      "Epoch 25/30\n",
      "40/40 [==============================] - 988s 25s/step - loss: 0.0543 - acc: 0.9816 - val_loss: 0.0173 - val_acc: 0.9930\n",
      "Epoch 26/30\n",
      "40/40 [==============================] - 992s 25s/step - loss: 0.0447 - acc: 0.9873 - val_loss: 0.0024 - val_acc: 0.9994\n",
      "Epoch 27/30\n",
      "40/40 [==============================] - 985s 25s/step - loss: 0.0437 - acc: 0.9852 - val_loss: 0.0077 - val_acc: 0.9972\n",
      "Epoch 28/30\n",
      "40/40 [==============================] - 973s 24s/step - loss: 0.0264 - acc: 0.9926 - val_loss: 0.0093 - val_acc: 0.9969\n",
      "Epoch 29/30\n",
      "40/40 [==============================] - 991s 25s/step - loss: 0.0474 - acc: 0.9869 - val_loss: 0.0041 - val_acc: 0.9980\n",
      "Epoch 30/30\n",
      "40/40 [==============================] - 987s 25s/step - loss: 0.0419 - acc: 0.9879 - val_loss: 0.0352 - val_acc: 0.9885\n"
     ]
    }
   ],
   "source": [
    "with tf.device('/gpu:2'):\n",
    "    history = model.fit_generator(train_gen, \n",
    "                                  steps_per_epoch = 40,\n",
    "                                 epochs = 30,\n",
    "                                 validation_data = test_gen,\n",
    "                                 validation_steps = 28,\n",
    "                                 callbacks=callbacks_list)"
   ]
  },
  {
   "cell_type": "code",
   "execution_count": 48,
   "metadata": {},
   "outputs": [],
   "source": [
    "import cv2\n",
    "add = cv2.imread('data/ADD/ADD_28.png')\n",
    "add = cv2.cvtColor(add,cv2.COLOR_BGR2GRAY)\n",
    "add_batch = np.int32(add)/255.\n",
    "add_batch = np.expand_dims(add_batch,axis=0)\n",
    "add_batch = np.expand_dims(add_batch,axis=-1)"
   ]
  },
  {
   "cell_type": "code",
   "execution_count": 49,
   "metadata": {},
   "outputs": [
    {
     "data": {
      "text/plain": [
       "(1, 300, 300, 1)"
      ]
     },
     "execution_count": 49,
     "metadata": {},
     "output_type": "execute_result"
    }
   ],
   "source": [
    "add_batch.shape"
   ]
  },
  {
   "cell_type": "code",
   "execution_count": 50,
   "metadata": {},
   "outputs": [
    {
     "data": {
      "text/plain": [
       "'+'"
      ]
     },
     "execution_count": 50,
     "metadata": {},
     "output_type": "execute_result"
    }
   ],
   "source": [
    "numbers=['+','1','2','3','4','5']\n",
    "numbers[np.argmax(model.predict(add_batch)[0])]"
   ]
  },
  {
   "cell_type": "code",
   "execution_count": 52,
   "metadata": {
    "collapsed": true
   },
   "outputs": [],
   "source": [
    "import matplotlib.pyplot as plt\n",
    "%matplotlib inline"
   ]
  },
  {
   "cell_type": "code",
   "execution_count": 53,
   "metadata": {},
   "outputs": [
    {
     "data": {
      "text/plain": [
       "Text(0.5,0,'# of epochs')"
      ]
     },
     "execution_count": 53,
     "metadata": {},
     "output_type": "execute_result"
    },
    {
     "data": {
      "image/png": "[encoded data removed]",
      "text/plain": [
       "<matplotlib.figure.Figure at 0x7fa4c54c1c50>"
      ]
     },
     "metadata": {},
     "output_type": "display_data"
    }
   ],
   "source": [
    "plt.figure(figsize=(16,6))\n",
    "plt.subplot(1,2,1)\n",
    "nepochs=len(history.history['loss'])\n",
    "plt.plot(range(nepochs), history.history['loss'],     'r-', label='train')\n",
    "plt.plot(range(nepochs), history.history['val_loss'], 'b-', label='test')\n",
    "plt.legend(prop={'size': 20})\n",
    "plt.ylabel('loss')\n",
    "plt.xlabel('# of epochs')\n",
    "plt.subplot(1,2,2)\n",
    "plt.plot(range(nepochs), history.history['acc'],     'r-', label='train')\n",
    "plt.plot(range(nepochs), history.history['val_acc'], 'b-', label='test')\n",
    "plt.legend(prop={'size': 20})\n",
    "plt.ylabel('accuracy')\n",
    "plt.xlabel('# of epochs')"
   ]
  },
  {
   "cell_type": "code",
   "execution_count": null,
   "metadata": {
    "collapsed": true
   },
   "outputs": [],
   "source": [
    "def preprocess(roi):\n",
    "    roi = cv2.cvtColor(roi,cv2.COLOR_BGR2GRAY)\n",
    "    roi = cv2.GaussianBlur(roi,(7,7),3)\n",
    "    roi = cv2.adaptiveThreshold(roi,255,cv2.ADAPTIVE_THRESH_GAUSSIAN_C,cv2.THRESH_BINARY_INV,11,2)\n",
    "    ret,roi_new = cv2.threshold(roi,25,255,cv2.THRESH_BINARY_INV + cv2.THRESH_OTSU)\n",
    "    return roi_new"
   ]
  }
 ],
 "metadata": {
  "kernelspec": {
   "display_name": "Python 3",
   "language": "python",
   "name": "python3"
  },
  "language_info": {
   "codemirror_mode": {
    "name": "ipython",
    "version": 3
   },
   "file_extension": ".py",
   "mimetype": "text/x-python",
   "name": "python",
   "nbconvert_exporter": "python",
   "pygments_lexer": "ipython3",
   "version": "3.5.2"
  }
 },
 "nbformat": 4,
 "nbformat_minor": 2
}
